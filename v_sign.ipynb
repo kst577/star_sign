{
 "cells": [
  {
   "cell_type": "code",
   "execution_count": 1,
   "metadata": {},
   "outputs": [],
   "source": [
    "import requests\n",
    "from bs4 import BeautifulSoup\n",
    "import re\n",
    "import pandas as pd\n",
    "import numpy as np"
   ]
  },
  {
   "cell_type": "code",
   "execution_count": 62,
   "metadata": {},
   "outputs": [
    {
     "name": "stdout",
     "output_type": "stream",
     "text": [
      "Enter your D.O.B in dd/mm/yyyy format17/06/1999\n",
      "\u001b[1myour star sign acording to hindu calendar is : Karka\n"
     ]
    }
   ],
   "source": [
    "dob=input('\\033[1m'+'Enter your D.O.B in dd/mm/yyyy format')\n",
    "date=int(dob[:2])\n",
    "month=int(dob[3:5])\n",
    "year=int(dob[6:])\n",
    "months=['january','february','march','april','may','june','july','august','september','october','november','december']\n",
    "url=('https://www.prokerala.com/general/calendar/hinducalendar.php?year={}&mon={}&sb=1#next').format(year,months[month-1])\n",
    "page=requests.get(url)\n",
    "soup=BeautifulSoup(page.text,'html.parser')\n",
    "a=soup.find_all('div',{'class':'other-info'})\n",
    "b=[]\n",
    "for i in a:\n",
    "    c=i.text\n",
    "    b.append(c)\n",
    "e=[]\n",
    "for i in b:\n",
    "    d=i.replace('\\n','')\n",
    "    d=d.replace('\\xa0','')\n",
    "    e.append(d)\n",
    "    \n",
    "star_sign=[]\n",
    "for i in e:\n",
    "    star_sign.append(i[14:].split()[0])\n",
    "print('\\033[1m'+'your star sign acording to hindu calendar is :',rasi[date-1])\n"
   ]
  },
  {
   "cell_type": "code",
   "execution_count": null,
   "metadata": {},
   "outputs": [],
   "source": []
  }
 ],
 "metadata": {
  "kernelspec": {
   "display_name": "Python 3 (ipykernel)",
   "language": "python",
   "name": "python3"
  },
  "language_info": {
   "codemirror_mode": {
    "name": "ipython",
    "version": 3
   },
   "file_extension": ".py",
   "mimetype": "text/x-python",
   "name": "python",
   "nbconvert_exporter": "python",
   "pygments_lexer": "ipython3",
   "version": "3.10.9"
  }
 },
 "nbformat": 4,
 "nbformat_minor": 2
}
